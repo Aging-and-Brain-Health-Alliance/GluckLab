{
 "cells": [
  {
   "cell_type": "code",
   "execution_count": 7,
   "metadata": {},
   "outputs": [],
   "source": [
    "import csv\n",
    "import random\n",
    "import pandas as pd"
   ]
  },
  {
   "cell_type": "code",
   "execution_count": 8,
   "metadata": {},
   "outputs": [],
   "source": [
    "\n",
    "header = [\"binary_representation\", \"muscles\", \"insulin\", \"glands\", \"sinus\", \"category\", \"phase\"]\n",
    "muscles_list = [\"tense\", \"relaxed\"]\n",
    "insulin_list = [\"high\", \"low\"]\n",
    "glands_list = [\"swollen\", \"recessed\"]\n",
    "sinus_list = [\"stuffy\", \"runny\"]\n",
    "category = [\"A\", \"B\"]\n",
    "phase = [\"training\", \"testing\"]\n",
    "\n",
    "binary_conditions = [bin(i)[2:].zfill(4) for i in range(16)]\n",
    "training_stimuli_a = [\"1111\", \"1100\", \"0111\", \"1000\"]\n",
    "training_stimuli_b = [\"0010\", \"0001\", \"1010\", \"0101\"]\n",
    "training_stimuli = training_stimuli_a + training_stimuli_b\n",
    "testing_stimuli = [x for x in binary_conditions if x not in training_stimuli]\n",
    "\n",
    "with open(\"./experiment_files/training.csv\", mode=\"w\" ,newline=\"\") as f:\n",
    "    writer = csv.writer(f, delimiter=\",\", quotechar='\"', quoting=csv.QUOTE_NONNUMERIC)\n",
    "    writer.writerow(header)\n",
    "    for bin_con in training_stimuli_a :\n",
    "        condition = [bin_con,\n",
    "                    muscles_list[int(bin_con[0])],\n",
    "                    insulin_list[int(bin_con[1])],\n",
    "                    glands_list[int(bin_con[2])],\n",
    "                    sinus_list[int(bin_con[3])],\n",
    "                    category[0],\n",
    "                    phase[0]]\n",
    "        writer.writerow(condition)\n",
    "    for bin_con in training_stimuli_b:\n",
    "        condition = [bin_con,\n",
    "                    muscles_list[int(bin_con[0])],\n",
    "                    insulin_list[int(bin_con[1])],\n",
    "                    glands_list[int(bin_con[2])],\n",
    "                    sinus_list[int(bin_con[3])],\n",
    "                    category[1],\n",
    "                    phase[0]]\n",
    "        writer.writerow(condition)\n",
    "\n",
    "\n",
    "header = [\"binary_representation\", \"muscles\", \"insulin\", \"glands\", \"sinus\", \"phase\"]\n",
    "\n",
    "with open(\"./experiment_files/testing.csv\", mode=\"w\" ,newline=\"\") as f:\n",
    "    writer = csv.writer(f, delimiter=\",\", quotechar='\"', quoting=csv.QUOTE_NONNUMERIC)\n",
    "    writer.writerow(header)\n",
    "    for bin_con in testing_stimuli:\n",
    "        condition = [bin_con,\n",
    "                    muscles_list[int(bin_con[0])],\n",
    "                    insulin_list[int(bin_con[1])],\n",
    "                    glands_list[int(bin_con[2])],\n",
    "                    sinus_list[int(bin_con[3])],\n",
    "                    phase[1]]\n",
    "        writer.writerow(condition)"
   ]
  },
  {
   "cell_type": "code",
   "execution_count": 9,
   "metadata": {},
   "outputs": [],
   "source": [
    "reader = csv.reader(open(\"./experiment_files/training.csv\"))"
   ]
  }
 ],
 "metadata": {
  "kernelspec": {
   "display_name": "gluckLab",
   "language": "python",
   "name": "python3"
  },
  "language_info": {
   "codemirror_mode": {
    "name": "ipython",
    "version": 3
   },
   "file_extension": ".py",
   "mimetype": "text/x-python",
   "name": "python",
   "nbconvert_exporter": "python",
   "pygments_lexer": "ipython3",
   "version": "3.11.4"
  }
 },
 "nbformat": 4,
 "nbformat_minor": 2
}
